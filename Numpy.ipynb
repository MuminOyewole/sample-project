{
 "cells": [
  {
   "cell_type": "code",
   "execution_count": 6,
   "id": "10ae12e9-facb-46ac-9706-f15cc853572d",
   "metadata": {},
   "outputs": [],
   "source": [
    "# INTRODUCTION TO NUMPY\n",
    "import numpy as np"
   ]
  },
  {
   "cell_type": "code",
   "execution_count": 7,
   "id": "9712fb2b-0e55-49af-bfae-0e6c40532ae6",
   "metadata": {},
   "outputs": [
    {
     "data": {
      "text/plain": [
       "array([1, 2, 3])"
      ]
     },
     "execution_count": 7,
     "metadata": {},
     "output_type": "execute_result"
    }
   ],
   "source": [
    "array_1 = np.array([1,2,3])\n",
    "array_1"
   ]
  },
  {
   "cell_type": "code",
   "execution_count": 8,
   "id": "e0634385-219c-4e5c-8706-e7d82eebfa75",
   "metadata": {},
   "outputs": [
    {
     "data": {
      "text/plain": [
       "((3,), 3)"
      ]
     },
     "execution_count": 8,
     "metadata": {},
     "output_type": "execute_result"
    }
   ],
   "source": [
    "array_1.shape, array_1.size"
   ]
  },
  {
   "cell_type": "raw",
   "id": "d10d59b9-f2c3-45f4-b08f-fc24a71261cd",
   "metadata": {},
   "source": []
  },
  {
   "cell_type": "code",
   "execution_count": null,
   "id": "0b18f894-4fb6-46a6-932d-3446512a57c5",
   "metadata": {},
   "outputs": [],
   "source": []
  }
 ],
 "metadata": {
  "kernelspec": {
   "display_name": "Python 3 (ipykernel)",
   "language": "python",
   "name": "python3"
  },
  "language_info": {
   "codemirror_mode": {
    "name": "ipython",
    "version": 3
   },
   "file_extension": ".py",
   "mimetype": "text/x-python",
   "name": "python",
   "nbconvert_exporter": "python",
   "pygments_lexer": "ipython3",
   "version": "3.12.8"
  }
 },
 "nbformat": 4,
 "nbformat_minor": 5
}
